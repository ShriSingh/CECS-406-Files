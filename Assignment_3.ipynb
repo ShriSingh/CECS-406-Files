{
  "nbformat": 4,
  "nbformat_minor": 0,
  "metadata": {
    "colab": {
      "provenance": []
    },
    "kernelspec": {
      "name": "python3",
      "display_name": "Python 3"
    },
    "language_info": {
      "name": "python"
    }
  },
  "cells": [
    {
      "cell_type": "code",
      "execution_count": 1,
      "metadata": {
        "id": "Nb6ZeBINejrJ",
        "colab": {
          "base_uri": "https://localhost:8080/"
        },
        "outputId": "1a825704-94f0-49eb-f8f6-5b5d18e2432a"
      },
      "outputs": [
        {
          "output_type": "stream",
          "name": "stdout",
          "text": [
            "Downloading data from https://storage.googleapis.com/tensorflow/tf-keras-datasets/mnist.npz\n",
            "\u001b[1m11490434/11490434\u001b[0m \u001b[32m━━━━━━━━━━━━━━━━━━━━\u001b[0m\u001b[37m\u001b[0m \u001b[1m0s\u001b[0m 0us/step\n"
          ]
        }
      ],
      "source": [
        "from keras.api.datasets import mnist\n",
        "from keras.api.utils import to_categorical\n",
        "\n",
        "# Loading up the data\n",
        "(x_train, y_train), (x_test, y_test) = mnist.load_data()\n",
        "# Changing to one-hot encoding\n",
        "y_train = to_categorical(y_train)\n",
        "y_test = to_categorical(y_test)"
      ]
    },
    {
      "cell_type": "code",
      "source": [
        "from sklearn.model_selection import train_test_split\n",
        "# Splitting up train dataset into sub_train and valid\n",
        "# Allocating 50,000 samples to sub_train and remaining 10,000 samples to valid\n",
        "sub_train_x, valid_x, sub_train_y, valid_y = train_test_split(x_train, y_train, train_size=50000, test_size=10000, random_state=42)"
      ],
      "metadata": {
        "id": "YLvH_NgdiFip"
      },
      "execution_count": 2,
      "outputs": []
    },
    {
      "cell_type": "code",
      "source": [
        "from keras import models, layers, initializers, optimizers\n",
        "\n",
        "def build_model(hp):\n",
        "    \"\"\"\n",
        "    Building the neural network\n",
        "        - Excluding the convolution('Conv') layer\n",
        "        - Using the cross entropy loss function\n",
        "    \"\"\"\n",
        "    model = models.Sequential() # Sequential Model\n",
        "    model.add(layers.Flatten()) # Flattening(Enumerating) 2-d array to 1-d array\n",
        "\n",
        "    for i in range(hp.Int('num_layers', 1, 5)):\n",
        "        # Assigning number of layers\n",
        "        model.add(layers.Dense(\n",
        "            units=hp.Int('units', min_value=32, max_value=512, step=32),\n",
        "            activation=hp.Choice('activation', ['relu', 'sigmoid', 'tanh', 'softplus', 'linear', 'exponential']),\n",
        "            kernel_initializer=initializers.RandomNormal(stddev=0.01),\n",
        "            bias_initializer=initializers.Ones()\n",
        "        ))\n",
        "\n",
        "    model.add(layers.Dense(10, activation='softmax'))\n",
        "\n",
        "    # Designing the network\n",
        "    model.compile(\n",
        "        optimizer=optimizers.Adam(\n",
        "            # Experimenting with at least 3 values\n",
        "            # with learning_rate, beta_1, beta_2 hyperparameters\n",
        "            learning_rate=hp.Choice('learning_rate', [1e-1, 1e-2, 1e-3, 1e-4, 1e-5]),\n",
        "            beta_1=hp.Choice('beta_1', [0.99, 0.9, 0.85, 0.8, 0.75]),\n",
        "            beta_2=hp.Choice('beta_2', [0.99, 0.98, 0.97, 0.95, 0.90])\n",
        "        ),\n",
        "        # Cross-entropy loss function\n",
        "        loss='categorical_crossentropy',\n",
        "        metrics=['accuracy']\n",
        "    )\n",
        "\n",
        "    return model"
      ],
      "metadata": {
        "id": "iLCXu1-ijQKm"
      },
      "execution_count": 3,
      "outputs": []
    },
    {
      "cell_type": "code",
      "source": [
        "# Making sure keras-tuner is downloaded and up-to-date(Had problems in google colab)\n",
        "!pip install keras_tuner --upgrade"
      ],
      "metadata": {
        "id": "z2Xm2qw1dwwA",
        "colab": {
          "base_uri": "https://localhost:8080/"
        },
        "outputId": "26f47522-fe3c-4f9c-dad5-887606dc1888"
      },
      "execution_count": 4,
      "outputs": [
        {
          "output_type": "stream",
          "name": "stdout",
          "text": [
            "Collecting keras_tuner\n",
            "  Downloading keras_tuner-1.4.7-py3-none-any.whl.metadata (5.4 kB)\n",
            "Requirement already satisfied: keras in /usr/local/lib/python3.10/dist-packages (from keras_tuner) (3.4.1)\n",
            "Requirement already satisfied: packaging in /usr/local/lib/python3.10/dist-packages (from keras_tuner) (24.1)\n",
            "Requirement already satisfied: requests in /usr/local/lib/python3.10/dist-packages (from keras_tuner) (2.32.3)\n",
            "Collecting kt-legacy (from keras_tuner)\n",
            "  Downloading kt_legacy-1.0.5-py3-none-any.whl.metadata (221 bytes)\n",
            "Requirement already satisfied: absl-py in /usr/local/lib/python3.10/dist-packages (from keras->keras_tuner) (1.4.0)\n",
            "Requirement already satisfied: numpy in /usr/local/lib/python3.10/dist-packages (from keras->keras_tuner) (1.26.4)\n",
            "Requirement already satisfied: rich in /usr/local/lib/python3.10/dist-packages (from keras->keras_tuner) (13.9.2)\n",
            "Requirement already satisfied: namex in /usr/local/lib/python3.10/dist-packages (from keras->keras_tuner) (0.0.8)\n",
            "Requirement already satisfied: h5py in /usr/local/lib/python3.10/dist-packages (from keras->keras_tuner) (3.11.0)\n",
            "Requirement already satisfied: optree in /usr/local/lib/python3.10/dist-packages (from keras->keras_tuner) (0.13.0)\n",
            "Requirement already satisfied: ml-dtypes in /usr/local/lib/python3.10/dist-packages (from keras->keras_tuner) (0.4.1)\n",
            "Requirement already satisfied: charset-normalizer<4,>=2 in /usr/local/lib/python3.10/dist-packages (from requests->keras_tuner) (3.4.0)\n",
            "Requirement already satisfied: idna<4,>=2.5 in /usr/local/lib/python3.10/dist-packages (from requests->keras_tuner) (3.10)\n",
            "Requirement already satisfied: urllib3<3,>=1.21.1 in /usr/local/lib/python3.10/dist-packages (from requests->keras_tuner) (2.2.3)\n",
            "Requirement already satisfied: certifi>=2017.4.17 in /usr/local/lib/python3.10/dist-packages (from requests->keras_tuner) (2024.8.30)\n",
            "Requirement already satisfied: typing-extensions>=4.5.0 in /usr/local/lib/python3.10/dist-packages (from optree->keras->keras_tuner) (4.12.2)\n",
            "Requirement already satisfied: markdown-it-py>=2.2.0 in /usr/local/lib/python3.10/dist-packages (from rich->keras->keras_tuner) (3.0.0)\n",
            "Requirement already satisfied: pygments<3.0.0,>=2.13.0 in /usr/local/lib/python3.10/dist-packages (from rich->keras->keras_tuner) (2.18.0)\n",
            "Requirement already satisfied: mdurl~=0.1 in /usr/local/lib/python3.10/dist-packages (from markdown-it-py>=2.2.0->rich->keras->keras_tuner) (0.1.2)\n",
            "Downloading keras_tuner-1.4.7-py3-none-any.whl (129 kB)\n",
            "\u001b[2K   \u001b[90m━━━━━━━━━━━━━━━━━━━━━━━━━━━━━━━━━━━━━━━━\u001b[0m \u001b[32m129.1/129.1 kB\u001b[0m \u001b[31m2.6 MB/s\u001b[0m eta \u001b[36m0:00:00\u001b[0m\n",
            "\u001b[?25hDownloading kt_legacy-1.0.5-py3-none-any.whl (9.6 kB)\n",
            "Installing collected packages: kt-legacy, keras_tuner\n",
            "Successfully installed keras_tuner-1.4.7 kt-legacy-1.0.5\n"
          ]
        }
      ]
    },
    {
      "cell_type": "code",
      "source": [
        "import keras_tuner\n",
        "\n",
        "# Building the model and calling keras_tuner\n",
        "build_model(keras_tuner.HyperParameters())\n",
        "# Letting it randomly choose the number of layers\n",
        "tuner=keras_tuner.RandomSearch(\n",
        "    hypermodel=build_model,\n",
        "    objective='val_accuracy',\n",
        "    max_trials=15 # Keeping it greater than 10\n",
        ")"
      ],
      "metadata": {
        "id": "ePeQePddbSNV"
      },
      "execution_count": 5,
      "outputs": []
    },
    {
      "cell_type": "code",
      "source": [
        "# Performing search space\n",
        "tuner.search_space_summary()"
      ],
      "metadata": {
        "id": "lOJhhS95d3m7",
        "colab": {
          "base_uri": "https://localhost:8080/"
        },
        "outputId": "30256e3e-b795-4937-d6b8-164e1d487042"
      },
      "execution_count": 6,
      "outputs": [
        {
          "output_type": "stream",
          "name": "stdout",
          "text": [
            "Search space summary\n",
            "Default search space size: 6\n",
            "num_layers (Int)\n",
            "{'default': None, 'conditions': [], 'min_value': 1, 'max_value': 5, 'step': 1, 'sampling': 'linear'}\n",
            "units (Int)\n",
            "{'default': None, 'conditions': [], 'min_value': 32, 'max_value': 512, 'step': 32, 'sampling': 'linear'}\n",
            "activation (Choice)\n",
            "{'default': 'relu', 'conditions': [], 'values': ['relu', 'sigmoid', 'tanh', 'softplus', 'linear', 'exponential'], 'ordered': False}\n",
            "learning_rate (Choice)\n",
            "{'default': 0.1, 'conditions': [], 'values': [0.1, 0.01, 0.001, 0.0001, 1e-05], 'ordered': True}\n",
            "beta_1 (Choice)\n",
            "{'default': 0.99, 'conditions': [], 'values': [0.99, 0.9, 0.85, 0.8, 0.75], 'ordered': True}\n",
            "beta_2 (Choice)\n",
            "{'default': 0.99, 'conditions': [], 'values': [0.99, 0.98, 0.97, 0.95, 0.9], 'ordered': True}\n"
          ]
        }
      ]
    },
    {
      "cell_type": "code",
      "source": [
        "# Performing search\n",
        "tuner.search(sub_train_x, sub_train_y, epochs=10, validation_data=(valid_x, valid_y))"
      ],
      "metadata": {
        "id": "b18rtrXad97b",
        "colab": {
          "base_uri": "https://localhost:8080/"
        },
        "outputId": "5178ae23-1826-48bf-d358-3e8c9556fb8e"
      },
      "execution_count": 7,
      "outputs": [
        {
          "output_type": "stream",
          "name": "stdout",
          "text": [
            "Trial 15 Complete [00h 01m 35s]\n",
            "val_accuracy: 0.9465000033378601\n",
            "\n",
            "Best val_accuracy So Far: 0.9721999764442444\n",
            "Total elapsed time: 00h 43m 23s\n"
          ]
        }
      ]
    },
    {
      "cell_type": "code",
      "source": [
        "# Getting the best models\n",
        "models = tuner.get_best_models()\n",
        "models[0].summary()"
      ],
      "metadata": {
        "id": "tlZXJIidgp_q",
        "colab": {
          "base_uri": "https://localhost:8080/",
          "height": 413
        },
        "outputId": "c5976eaa-3f8d-4998-c461-ffad804140d4"
      },
      "execution_count": 8,
      "outputs": [
        {
          "output_type": "stream",
          "name": "stderr",
          "text": [
            "/usr/local/lib/python3.10/dist-packages/keras/src/saving/saving_lib.py:576: UserWarning: Skipping variable loading for optimizer 'adam', because it has 2 variables whereas the saved optimizer has 26 variables. \n",
            "  saveable.load_own_variables(weights_store.get(inner_path))\n"
          ]
        },
        {
          "output_type": "display_data",
          "data": {
            "text/plain": [
              "\u001b[1mModel: \"sequential\"\u001b[0m\n"
            ],
            "text/html": [
              "<pre style=\"white-space:pre;overflow-x:auto;line-height:normal;font-family:Menlo,'DejaVu Sans Mono',consolas,'Courier New',monospace\"><span style=\"font-weight: bold\">Model: \"sequential\"</span>\n",
              "</pre>\n"
            ]
          },
          "metadata": {}
        },
        {
          "output_type": "display_data",
          "data": {
            "text/plain": [
              "┏━━━━━━━━━━━━━━━━━━━━━━━━━━━━━━━━━━━━━━┳━━━━━━━━━━━━━━━━━━━━━━━━━━━━━┳━━━━━━━━━━━━━━━━━┓\n",
              "┃\u001b[1m \u001b[0m\u001b[1mLayer (type)                        \u001b[0m\u001b[1m \u001b[0m┃\u001b[1m \u001b[0m\u001b[1mOutput Shape               \u001b[0m\u001b[1m \u001b[0m┃\u001b[1m \u001b[0m\u001b[1m        Param #\u001b[0m\u001b[1m \u001b[0m┃\n",
              "┡━━━━━━━━━━━━━━━━━━━━━━━━━━━━━━━━━━━━━━╇━━━━━━━━━━━━━━━━━━━━━━━━━━━━━╇━━━━━━━━━━━━━━━━━┩\n",
              "│ flatten (\u001b[38;5;33mFlatten\u001b[0m)                    │ (\u001b[38;5;45mNone\u001b[0m, \u001b[38;5;34m784\u001b[0m)                 │               \u001b[38;5;34m0\u001b[0m │\n",
              "├──────────────────────────────────────┼─────────────────────────────┼─────────────────┤\n",
              "│ dense (\u001b[38;5;33mDense\u001b[0m)                        │ (\u001b[38;5;45mNone\u001b[0m, \u001b[38;5;34m480\u001b[0m)                 │         \u001b[38;5;34m376,800\u001b[0m │\n",
              "├──────────────────────────────────────┼─────────────────────────────┼─────────────────┤\n",
              "│ dense_1 (\u001b[38;5;33mDense\u001b[0m)                      │ (\u001b[38;5;45mNone\u001b[0m, \u001b[38;5;34m480\u001b[0m)                 │         \u001b[38;5;34m230,880\u001b[0m │\n",
              "├──────────────────────────────────────┼─────────────────────────────┼─────────────────┤\n",
              "│ dense_2 (\u001b[38;5;33mDense\u001b[0m)                      │ (\u001b[38;5;45mNone\u001b[0m, \u001b[38;5;34m480\u001b[0m)                 │         \u001b[38;5;34m230,880\u001b[0m │\n",
              "├──────────────────────────────────────┼─────────────────────────────┼─────────────────┤\n",
              "│ dense_3 (\u001b[38;5;33mDense\u001b[0m)                      │ (\u001b[38;5;45mNone\u001b[0m, \u001b[38;5;34m480\u001b[0m)                 │         \u001b[38;5;34m230,880\u001b[0m │\n",
              "├──────────────────────────────────────┼─────────────────────────────┼─────────────────┤\n",
              "│ dense_4 (\u001b[38;5;33mDense\u001b[0m)                      │ (\u001b[38;5;45mNone\u001b[0m, \u001b[38;5;34m480\u001b[0m)                 │         \u001b[38;5;34m230,880\u001b[0m │\n",
              "├──────────────────────────────────────┼─────────────────────────────┼─────────────────┤\n",
              "│ dense_5 (\u001b[38;5;33mDense\u001b[0m)                      │ (\u001b[38;5;45mNone\u001b[0m, \u001b[38;5;34m10\u001b[0m)                  │           \u001b[38;5;34m4,810\u001b[0m │\n",
              "└──────────────────────────────────────┴─────────────────────────────┴─────────────────┘\n"
            ],
            "text/html": [
              "<pre style=\"white-space:pre;overflow-x:auto;line-height:normal;font-family:Menlo,'DejaVu Sans Mono',consolas,'Courier New',monospace\">┏━━━━━━━━━━━━━━━━━━━━━━━━━━━━━━━━━━━━━━┳━━━━━━━━━━━━━━━━━━━━━━━━━━━━━┳━━━━━━━━━━━━━━━━━┓\n",
              "┃<span style=\"font-weight: bold\"> Layer (type)                         </span>┃<span style=\"font-weight: bold\"> Output Shape                </span>┃<span style=\"font-weight: bold\">         Param # </span>┃\n",
              "┡━━━━━━━━━━━━━━━━━━━━━━━━━━━━━━━━━━━━━━╇━━━━━━━━━━━━━━━━━━━━━━━━━━━━━╇━━━━━━━━━━━━━━━━━┩\n",
              "│ flatten (<span style=\"color: #0087ff; text-decoration-color: #0087ff\">Flatten</span>)                    │ (<span style=\"color: #00d7ff; text-decoration-color: #00d7ff\">None</span>, <span style=\"color: #00af00; text-decoration-color: #00af00\">784</span>)                 │               <span style=\"color: #00af00; text-decoration-color: #00af00\">0</span> │\n",
              "├──────────────────────────────────────┼─────────────────────────────┼─────────────────┤\n",
              "│ dense (<span style=\"color: #0087ff; text-decoration-color: #0087ff\">Dense</span>)                        │ (<span style=\"color: #00d7ff; text-decoration-color: #00d7ff\">None</span>, <span style=\"color: #00af00; text-decoration-color: #00af00\">480</span>)                 │         <span style=\"color: #00af00; text-decoration-color: #00af00\">376,800</span> │\n",
              "├──────────────────────────────────────┼─────────────────────────────┼─────────────────┤\n",
              "│ dense_1 (<span style=\"color: #0087ff; text-decoration-color: #0087ff\">Dense</span>)                      │ (<span style=\"color: #00d7ff; text-decoration-color: #00d7ff\">None</span>, <span style=\"color: #00af00; text-decoration-color: #00af00\">480</span>)                 │         <span style=\"color: #00af00; text-decoration-color: #00af00\">230,880</span> │\n",
              "├──────────────────────────────────────┼─────────────────────────────┼─────────────────┤\n",
              "│ dense_2 (<span style=\"color: #0087ff; text-decoration-color: #0087ff\">Dense</span>)                      │ (<span style=\"color: #00d7ff; text-decoration-color: #00d7ff\">None</span>, <span style=\"color: #00af00; text-decoration-color: #00af00\">480</span>)                 │         <span style=\"color: #00af00; text-decoration-color: #00af00\">230,880</span> │\n",
              "├──────────────────────────────────────┼─────────────────────────────┼─────────────────┤\n",
              "│ dense_3 (<span style=\"color: #0087ff; text-decoration-color: #0087ff\">Dense</span>)                      │ (<span style=\"color: #00d7ff; text-decoration-color: #00d7ff\">None</span>, <span style=\"color: #00af00; text-decoration-color: #00af00\">480</span>)                 │         <span style=\"color: #00af00; text-decoration-color: #00af00\">230,880</span> │\n",
              "├──────────────────────────────────────┼─────────────────────────────┼─────────────────┤\n",
              "│ dense_4 (<span style=\"color: #0087ff; text-decoration-color: #0087ff\">Dense</span>)                      │ (<span style=\"color: #00d7ff; text-decoration-color: #00d7ff\">None</span>, <span style=\"color: #00af00; text-decoration-color: #00af00\">480</span>)                 │         <span style=\"color: #00af00; text-decoration-color: #00af00\">230,880</span> │\n",
              "├──────────────────────────────────────┼─────────────────────────────┼─────────────────┤\n",
              "│ dense_5 (<span style=\"color: #0087ff; text-decoration-color: #0087ff\">Dense</span>)                      │ (<span style=\"color: #00d7ff; text-decoration-color: #00d7ff\">None</span>, <span style=\"color: #00af00; text-decoration-color: #00af00\">10</span>)                  │           <span style=\"color: #00af00; text-decoration-color: #00af00\">4,810</span> │\n",
              "└──────────────────────────────────────┴─────────────────────────────┴─────────────────┘\n",
              "</pre>\n"
            ]
          },
          "metadata": {}
        },
        {
          "output_type": "display_data",
          "data": {
            "text/plain": [
              "\u001b[1m Total params: \u001b[0m\u001b[38;5;34m1,305,130\u001b[0m (4.98 MB)\n"
            ],
            "text/html": [
              "<pre style=\"white-space:pre;overflow-x:auto;line-height:normal;font-family:Menlo,'DejaVu Sans Mono',consolas,'Courier New',monospace\"><span style=\"font-weight: bold\"> Total params: </span><span style=\"color: #00af00; text-decoration-color: #00af00\">1,305,130</span> (4.98 MB)\n",
              "</pre>\n"
            ]
          },
          "metadata": {}
        },
        {
          "output_type": "display_data",
          "data": {
            "text/plain": [
              "\u001b[1m Trainable params: \u001b[0m\u001b[38;5;34m1,305,130\u001b[0m (4.98 MB)\n"
            ],
            "text/html": [
              "<pre style=\"white-space:pre;overflow-x:auto;line-height:normal;font-family:Menlo,'DejaVu Sans Mono',consolas,'Courier New',monospace\"><span style=\"font-weight: bold\"> Trainable params: </span><span style=\"color: #00af00; text-decoration-color: #00af00\">1,305,130</span> (4.98 MB)\n",
              "</pre>\n"
            ]
          },
          "metadata": {}
        },
        {
          "output_type": "display_data",
          "data": {
            "text/plain": [
              "\u001b[1m Non-trainable params: \u001b[0m\u001b[38;5;34m0\u001b[0m (0.00 B)\n"
            ],
            "text/html": [
              "<pre style=\"white-space:pre;overflow-x:auto;line-height:normal;font-family:Menlo,'DejaVu Sans Mono',consolas,'Courier New',monospace\"><span style=\"font-weight: bold\"> Non-trainable params: </span><span style=\"color: #00af00; text-decoration-color: #00af00\">0</span> (0.00 B)\n",
              "</pre>\n"
            ]
          },
          "metadata": {}
        }
      ]
    },
    {
      "cell_type": "code",
      "source": [
        "# Getting the summary of the top hyperparameters\n",
        "tuner.results_summary()"
      ],
      "metadata": {
        "id": "5TsYa0JkzgEQ",
        "colab": {
          "base_uri": "https://localhost:8080/"
        },
        "outputId": "03dafcd6-aeb6-4065-a7d6-ef74bf08c2d6"
      },
      "execution_count": 9,
      "outputs": [
        {
          "output_type": "stream",
          "name": "stdout",
          "text": [
            "Results summary\n",
            "Results in ./untitled_project\n",
            "Showing 10 best trials\n",
            "Objective(name=\"val_accuracy\", direction=\"max\")\n",
            "\n",
            "Trial 11 summary\n",
            "Hyperparameters:\n",
            "num_layers: 5\n",
            "units: 480\n",
            "activation: softplus\n",
            "learning_rate: 1e-05\n",
            "beta_1: 0.75\n",
            "beta_2: 0.9\n",
            "Score: 0.9721999764442444\n",
            "\n",
            "Trial 04 summary\n",
            "Hyperparameters:\n",
            "num_layers: 4\n",
            "units: 288\n",
            "activation: softplus\n",
            "learning_rate: 1e-05\n",
            "beta_1: 0.99\n",
            "beta_2: 0.9\n",
            "Score: 0.9685999751091003\n",
            "\n",
            "Trial 14 summary\n",
            "Hyperparameters:\n",
            "num_layers: 1\n",
            "units: 288\n",
            "activation: relu\n",
            "learning_rate: 1e-05\n",
            "beta_1: 0.8\n",
            "beta_2: 0.97\n",
            "Score: 0.9465000033378601\n",
            "\n",
            "Trial 03 summary\n",
            "Hyperparameters:\n",
            "num_layers: 5\n",
            "units: 512\n",
            "activation: sigmoid\n",
            "learning_rate: 0.0001\n",
            "beta_1: 0.75\n",
            "beta_2: 0.97\n",
            "Score: 0.9251000285148621\n",
            "\n",
            "Trial 07 summary\n",
            "Hyperparameters:\n",
            "num_layers: 3\n",
            "units: 416\n",
            "activation: linear\n",
            "learning_rate: 1e-05\n",
            "beta_1: 0.8\n",
            "beta_2: 0.98\n",
            "Score: 0.9211000204086304\n",
            "\n",
            "Trial 09 summary\n",
            "Hyperparameters:\n",
            "num_layers: 2\n",
            "units: 480\n",
            "activation: linear\n",
            "learning_rate: 0.0001\n",
            "beta_1: 0.9\n",
            "beta_2: 0.97\n",
            "Score: 0.9020000100135803\n",
            "\n",
            "Trial 01 summary\n",
            "Hyperparameters:\n",
            "num_layers: 1\n",
            "units: 96\n",
            "activation: linear\n",
            "learning_rate: 1e-05\n",
            "beta_1: 0.9\n",
            "beta_2: 0.99\n",
            "Score: 0.8962000012397766\n",
            "\n",
            "Trial 08 summary\n",
            "Hyperparameters:\n",
            "num_layers: 2\n",
            "units: 448\n",
            "activation: linear\n",
            "learning_rate: 0.1\n",
            "beta_1: 0.75\n",
            "beta_2: 0.95\n",
            "Score: 0.8801000118255615\n",
            "\n",
            "Trial 13 summary\n",
            "Hyperparameters:\n",
            "num_layers: 1\n",
            "units: 480\n",
            "activation: tanh\n",
            "learning_rate: 0.1\n",
            "beta_1: 0.99\n",
            "beta_2: 0.99\n",
            "Score: 0.7513999938964844\n",
            "\n",
            "Trial 02 summary\n",
            "Hyperparameters:\n",
            "num_layers: 2\n",
            "units: 160\n",
            "activation: softplus\n",
            "learning_rate: 0.1\n",
            "beta_1: 0.8\n",
            "beta_2: 0.98\n",
            "Score: 0.10930000245571136\n"
          ]
        }
      ]
    },
    {
      "cell_type": "code",
      "source": [
        "# Getting the best hyperparameter\n",
        "best_hps = tuner.get_best_hyperparameters(num_trials=1)[0]\n",
        "best_hps.values"
      ],
      "metadata": {
        "id": "P_FkHnHdnv3q",
        "colab": {
          "base_uri": "https://localhost:8080/"
        },
        "outputId": "38f91f55-16ee-4035-86ca-d62d2250de26"
      },
      "execution_count": 10,
      "outputs": [
        {
          "output_type": "execute_result",
          "data": {
            "text/plain": [
              "{'num_layers': 5,\n",
              " 'units': 480,\n",
              " 'activation': 'softplus',\n",
              " 'learning_rate': 1e-05,\n",
              " 'beta_1': 0.75,\n",
              " 'beta_2': 0.9}"
            ]
          },
          "metadata": {},
          "execution_count": 10
        }
      ]
    },
    {
      "cell_type": "code",
      "source": [
        "# Training the best model(models[0]) with sub_train and valid\n",
        "best_model = models[0]\n",
        "history = best_model.fit(sub_train_x, sub_train_y, epochs=20, validation_data=(valid_x, valid_y))"
      ],
      "metadata": {
        "id": "7l8kV79jqsB3",
        "colab": {
          "base_uri": "https://localhost:8080/"
        },
        "outputId": "7946a42f-5d43-451c-96bf-8fd1ad1cd6fe"
      },
      "execution_count": 11,
      "outputs": [
        {
          "output_type": "stream",
          "name": "stdout",
          "text": [
            "Epoch 1/20\n",
            "\u001b[1m1563/1563\u001b[0m \u001b[32m━━━━━━━━━━━━━━━━━━━━\u001b[0m\u001b[37m\u001b[0m \u001b[1m34s\u001b[0m 20ms/step - accuracy: 0.9802 - loss: 0.0655 - val_accuracy: 0.9723 - val_loss: 0.0983\n",
            "Epoch 2/20\n",
            "\u001b[1m1563/1563\u001b[0m \u001b[32m━━━━━━━━━━━━━━━━━━━━\u001b[0m\u001b[37m\u001b[0m \u001b[1m40s\u001b[0m 20ms/step - accuracy: 0.9822 - loss: 0.0578 - val_accuracy: 0.9722 - val_loss: 0.0930\n",
            "Epoch 3/20\n",
            "\u001b[1m1563/1563\u001b[0m \u001b[32m━━━━━━━━━━━━━━━━━━━━\u001b[0m\u001b[37m\u001b[0m \u001b[1m32s\u001b[0m 20ms/step - accuracy: 0.9845 - loss: 0.0515 - val_accuracy: 0.9735 - val_loss: 0.0939\n",
            "Epoch 4/20\n",
            "\u001b[1m1563/1563\u001b[0m \u001b[32m━━━━━━━━━━━━━━━━━━━━\u001b[0m\u001b[37m\u001b[0m \u001b[1m42s\u001b[0m 21ms/step - accuracy: 0.9862 - loss: 0.0487 - val_accuracy: 0.9748 - val_loss: 0.0926\n",
            "Epoch 5/20\n",
            "\u001b[1m1563/1563\u001b[0m \u001b[32m━━━━━━━━━━━━━━━━━━━━\u001b[0m\u001b[37m\u001b[0m \u001b[1m32s\u001b[0m 20ms/step - accuracy: 0.9878 - loss: 0.0420 - val_accuracy: 0.9768 - val_loss: 0.0879\n",
            "Epoch 6/20\n",
            "\u001b[1m1563/1563\u001b[0m \u001b[32m━━━━━━━━━━━━━━━━━━━━\u001b[0m\u001b[37m\u001b[0m \u001b[1m40s\u001b[0m 20ms/step - accuracy: 0.9890 - loss: 0.0399 - val_accuracy: 0.9763 - val_loss: 0.0892\n",
            "Epoch 7/20\n",
            "\u001b[1m1563/1563\u001b[0m \u001b[32m━━━━━━━━━━━━━━━━━━━━\u001b[0m\u001b[37m\u001b[0m \u001b[1m41s\u001b[0m 20ms/step - accuracy: 0.9889 - loss: 0.0365 - val_accuracy: 0.9759 - val_loss: 0.0923\n",
            "Epoch 8/20\n",
            "\u001b[1m1563/1563\u001b[0m \u001b[32m━━━━━━━━━━━━━━━━━━━━\u001b[0m\u001b[37m\u001b[0m \u001b[1m41s\u001b[0m 20ms/step - accuracy: 0.9912 - loss: 0.0307 - val_accuracy: 0.9771 - val_loss: 0.0948\n",
            "Epoch 9/20\n",
            "\u001b[1m1563/1563\u001b[0m \u001b[32m━━━━━━━━━━━━━━━━━━━━\u001b[0m\u001b[37m\u001b[0m \u001b[1m41s\u001b[0m 20ms/step - accuracy: 0.9917 - loss: 0.0292 - val_accuracy: 0.9745 - val_loss: 0.1029\n",
            "Epoch 10/20\n",
            "\u001b[1m1563/1563\u001b[0m \u001b[32m━━━━━━━━━━━━━━━━━━━━\u001b[0m\u001b[37m\u001b[0m \u001b[1m33s\u001b[0m 21ms/step - accuracy: 0.9928 - loss: 0.0282 - val_accuracy: 0.9769 - val_loss: 0.0939\n",
            "Epoch 11/20\n",
            "\u001b[1m1563/1563\u001b[0m \u001b[32m━━━━━━━━━━━━━━━━━━━━\u001b[0m\u001b[37m\u001b[0m \u001b[1m30s\u001b[0m 19ms/step - accuracy: 0.9935 - loss: 0.0222 - val_accuracy: 0.9776 - val_loss: 0.0937\n",
            "Epoch 12/20\n",
            "\u001b[1m1563/1563\u001b[0m \u001b[32m━━━━━━━━━━━━━━━━━━━━\u001b[0m\u001b[37m\u001b[0m \u001b[1m42s\u001b[0m 20ms/step - accuracy: 0.9942 - loss: 0.0206 - val_accuracy: 0.9769 - val_loss: 0.1007\n",
            "Epoch 13/20\n",
            "\u001b[1m1563/1563\u001b[0m \u001b[32m━━━━━━━━━━━━━━━━━━━━\u001b[0m\u001b[37m\u001b[0m \u001b[1m31s\u001b[0m 20ms/step - accuracy: 0.9954 - loss: 0.0189 - val_accuracy: 0.9773 - val_loss: 0.1066\n",
            "Epoch 14/20\n",
            "\u001b[1m1563/1563\u001b[0m \u001b[32m━━━━━━━━━━━━━━━━━━━━\u001b[0m\u001b[37m\u001b[0m \u001b[1m31s\u001b[0m 20ms/step - accuracy: 0.9962 - loss: 0.0153 - val_accuracy: 0.9767 - val_loss: 0.1067\n",
            "Epoch 15/20\n",
            "\u001b[1m1563/1563\u001b[0m \u001b[32m━━━━━━━━━━━━━━━━━━━━\u001b[0m\u001b[37m\u001b[0m \u001b[1m42s\u001b[0m 20ms/step - accuracy: 0.9962 - loss: 0.0135 - val_accuracy: 0.9771 - val_loss: 0.1047\n",
            "Epoch 16/20\n",
            "\u001b[1m1563/1563\u001b[0m \u001b[32m━━━━━━━━━━━━━━━━━━━━\u001b[0m\u001b[37m\u001b[0m \u001b[1m30s\u001b[0m 19ms/step - accuracy: 0.9968 - loss: 0.0139 - val_accuracy: 0.9771 - val_loss: 0.1200\n",
            "Epoch 17/20\n",
            "\u001b[1m1563/1563\u001b[0m \u001b[32m━━━━━━━━━━━━━━━━━━━━\u001b[0m\u001b[37m\u001b[0m \u001b[1m41s\u001b[0m 19ms/step - accuracy: 0.9968 - loss: 0.0127 - val_accuracy: 0.9757 - val_loss: 0.1220\n",
            "Epoch 18/20\n",
            "\u001b[1m1563/1563\u001b[0m \u001b[32m━━━━━━━━━━━━━━━━━━━━\u001b[0m\u001b[37m\u001b[0m \u001b[1m41s\u001b[0m 19ms/step - accuracy: 0.9974 - loss: 0.0092 - val_accuracy: 0.9767 - val_loss: 0.1262\n",
            "Epoch 19/20\n",
            "\u001b[1m1563/1563\u001b[0m \u001b[32m━━━━━━━━━━━━━━━━━━━━\u001b[0m\u001b[37m\u001b[0m \u001b[1m32s\u001b[0m 20ms/step - accuracy: 0.9977 - loss: 0.0084 - val_accuracy: 0.9764 - val_loss: 0.1320\n",
            "Epoch 20/20\n",
            "\u001b[1m1563/1563\u001b[0m \u001b[32m━━━━━━━━━━━━━━━━━━━━\u001b[0m\u001b[37m\u001b[0m \u001b[1m33s\u001b[0m 21ms/step - accuracy: 0.9986 - loss: 0.0057 - val_accuracy: 0.9787 - val_loss: 0.1316\n"
          ]
        }
      ]
    },
    {
      "cell_type": "code",
      "source": [
        "# Evaluating the best model on the testing dataset\n",
        "test_loss, test_accuracy = best_model.evaluate(valid_x, valid_y)\n",
        "print(f\"Test Accuracy: {test_accuracy}\")"
      ],
      "metadata": {
        "id": "mK1sDl5MzoTi",
        "colab": {
          "base_uri": "https://localhost:8080/"
        },
        "outputId": "96be7507-5396-407d-e65d-bed1366e381d"
      },
      "execution_count": 12,
      "outputs": [
        {
          "output_type": "stream",
          "name": "stdout",
          "text": [
            "\u001b[1m313/313\u001b[0m \u001b[32m━━━━━━━━━━━━━━━━━━━━\u001b[0m\u001b[37m\u001b[0m \u001b[1m2s\u001b[0m 5ms/step - accuracy: 0.9788 - loss: 0.1239\n",
            "Test Accuracy: 0.9786999821662903\n"
          ]
        }
      ]
    },
    {
      "cell_type": "code",
      "source": [
        "# Plotting the graph for training and validation loss\n",
        "import matplotlib.pyplot as plt\n",
        "\n",
        "# Plotting 'Training Loss'\n",
        "plt.plot(history.history['loss'], label='Training Loss')\n",
        "plt.plot(history.history['val_loss'], label='Validation Loss')\n",
        "plt.xlabel('Epochs')\n",
        "plt.ylabel('Loss')\n",
        "plt.legend()\n",
        "plt.show()"
      ],
      "metadata": {
        "id": "gv-faGeLz_Pp",
        "colab": {
          "base_uri": "https://localhost:8080/",
          "height": 469
        },
        "outputId": "d39da2a1-5d32-4563-8ddb-b4b55459e039"
      },
      "execution_count": 13,
      "outputs": [
        {
          "output_type": "display_data",
          "data": {
            "text/plain": [
              "<Figure size 640x480 with 1 Axes>"
            ],
            "image/png": "[encoded data removed]"
          },
          "metadata": {}
        }
      ]
    }
  ]
}